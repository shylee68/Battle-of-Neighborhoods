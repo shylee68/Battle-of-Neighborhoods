{
 "cells": [
  {
   "cell_type": "markdown",
   "metadata": {
    "collapsed": true
   },
   "source": [
    "# The Battle of Neighborhoods- Business Proposal "
   ]
  },
  {
   "cell_type": "markdown",
   "metadata": {},
   "source": [
    "# Introduction"
   ]
  },
  {
   "cell_type": "markdown",
   "metadata": {},
   "source": [
    "Pune is the second largest metropolitan city in the state of Maharashtra and the 8th most populated city in India. It has been named as the most livable city several times. Pune is widely regarded as the second major ‘IT hub of India’ and the top \"automobile and manufacturing hub of India\". It is known as the Oxford of the East with the presence of a wide range of educational institutions.India's first indigenously run girls' school was started in Pune by Savitribai Phule and Fatima Sheikh. The city has emerged as a major educational hub in recent decades, with nearly half of the total number of international students in the country studying in Pune. Research institutes of information technology, education, management and training attract students and professionals from India and overseas. It does suffer from some problems like extreme traffic, infrastructure space, transport problems etc. \n",
    "\n"
   ]
  },
  {
   "cell_type": "markdown",
   "metadata": {},
   "source": [
    "# Business Proposal "
   ]
  },
  {
   "cell_type": "markdown",
   "metadata": {},
   "source": [
    "# Questions i'd like to put forward "
   ]
  },
  {
   "cell_type": "markdown",
   "metadata": {},
   "source": [
    "1)List and visualize all parts of Pune with top infrastructure \n",
    "2)What are the  best locations in Pune as per infrastructure \n",
    "3)Which areas in Pune have the potential for development of infrastructure of different kinds? \n",
    "4)Which areas lack infrastructure capabilities? \n",
    "5)What is the best place to stay alongwith all the facilities? \n"
   ]
  },
  {
   "cell_type": "markdown",
   "metadata": {},
   "source": [
    "# Target audience "
   ]
  },
  {
   "cell_type": "markdown",
   "metadata": {},
   "source": [
    "The purpose of this project is to help the audience in helping to find better facilities.It will help people in making better decisions about selecting better neighborhoods based on various aspects like infrastructure, safety, security, inclusivity etc. \n",
    "A lot of young people migrate to Pune for education and work purposes and require a lot of research to find the right places for residence, good housing prices, businesses etc. This project is targeting those people. \n",
    "It will aid people in making better decisions and get clear information before making the decision of moving to the actual place in the city for their professional or personal purposes.\n"
   ]
  },
  {
   "cell_type": "markdown",
   "metadata": {},
   "source": [
    "# Data Description "
   ]
  },
  {
   "cell_type": "markdown",
   "metadata": {},
   "source": [
    "Pune City's demographics show that it is a large and ethnically diverse metropolis. with its diverse society, comes diverse infrastructure. There are many different kinds of infrastructure in Pune, each belonging to different categories like work stations, IT offices, schools, universities, Hotels, etc."
   ]
  },
  {
   "cell_type": "markdown",
   "metadata": {},
   "source": [
    "For this project we need the following data "
   ]
  },
  {
   "cell_type": "markdown",
   "metadata": {},
   "source": [
    "1) Pincode of Pune that can be scraped from the web. \n",
    "Source of data : https://pune.gov.in/std-pin-codes/\n",
    "Description: Contain a list of pin codes, postal office names, city which can be\n",
    "used to discover all postal office of Pune. "
   ]
  },
  {
   "cell_type": "markdown",
   "metadata": {},
   "source": [
    "2)Pune City data contain list pin codes, postal office names, city along with their\n",
    "latitude and longitude.\n",
    "Data Source : https://latitudelongitude.org/in/pune/\n",
    "Description : This data set contains the required information. And we will use this\n",
    "data set to explore various neighborhoods of Pune City."
   ]
  },
  {
   "cell_type": "markdown",
   "metadata": {},
   "source": [
    "3)Different kinds of infrastructures in each neighborhood of Pune City.\n",
    "Source of data : Foursquare API\n",
    "Description: By using this API we will get all the venues in each postal office. We\n",
    "can filter these venues to get different infrastructures and venues."
   ]
  },
  {
   "cell_type": "markdown",
   "metadata": {},
   "source": [
    "Using this data will allow exploration and examination to answer the questions. This is a project\n",
    "that will make use of many data science skills, from web scraping, working with\n",
    "API (Foursquare), data cleaning, data wrangling and map visualization (Folium) and to machine\n",
    "learning (K-means clustering)."
   ]
  },
  {
   "cell_type": "code",
   "execution_count": null,
   "metadata": {},
   "outputs": [],
   "source": []
  }
 ],
 "metadata": {
  "kernelspec": {
   "display_name": "Python 3.7",
   "language": "python",
   "name": "python3"
  },
  "language_info": {
   "codemirror_mode": {
    "name": "ipython",
    "version": 3
   },
   "file_extension": ".py",
   "mimetype": "text/x-python",
   "name": "python",
   "nbconvert_exporter": "python",
   "pygments_lexer": "ipython3",
   "version": "3.7.10"
  }
 },
 "nbformat": 4,
 "nbformat_minor": 1
}
